{
  "nbformat": 4,
  "nbformat_minor": 0,
  "metadata": {
    "colab": {
      "name": "K-Nearest Neighbor.ipynb",
      "provenance": [],
      "collapsed_sections": [],
      "authorship_tag": "ABX9TyOKe5nF3NTgAjBF7Sr81fM3",
      "include_colab_link": true
    },
    "kernelspec": {
      "name": "python3",
      "display_name": "Python 3"
    },
    "language_info": {
      "name": "python"
    }
  },
  "cells": [
    {
      "cell_type": "markdown",
      "metadata": {
        "id": "view-in-github",
        "colab_type": "text"
      },
      "source": [
        "<a href=\"https://colab.research.google.com/github/Dityath/kNN/blob/main/K_Nearest_Neighbor.ipynb\" target=\"_parent\"><img src=\"https://colab.research.google.com/assets/colab-badge.svg\" alt=\"Open In Colab\"/></a>"
      ]
    },
    {
      "cell_type": "markdown",
      "metadata": {
        "id": "X-z6rxf6wxsu"
      },
      "source": [
        "# K-Nearest Neighbor Assignment\n",
        "IF-43-INT\n",
        "\n",
        "- Ditya Athallah\n",
        "- Pernanda Arya BhagasKara S M\n",
        "- Rifaldy Bintang Ramadhan"
      ]
    },
    {
      "cell_type": "markdown",
      "metadata": {
        "id": "85casdgp35Re"
      },
      "source": [
        "### Import all data and library"
      ]
    },
    {
      "cell_type": "code",
      "metadata": {
        "id": "NWkNu_g6_eWB"
      },
      "source": [
        "import pandas as pd\n",
        "from math import sqrt"
      ],
      "execution_count": null,
      "outputs": []
    },
    {
      "cell_type": "markdown",
      "metadata": {
        "id": "KEiTehasK5-7"
      },
      "source": [
        "You can edit the training data in google spread [here](https://docs.google.com/spreadsheets/d/1qY2Pxbb2lCNy3WsdJ_09dJodustHinEGRy-847WFHr8/edit?usp=sharing)\n",
        "\n",
        "Dont forget to save the sheet and run all again after editing"
      ]
    },
    {
      "cell_type": "code",
      "metadata": {
        "id": "Yd80WvYG_aqO"
      },
      "source": [
        "data = pd.read_excel(\"https://github.com/Dityath/kNN/blob/main/mobil.xls?raw=true\")\n",
        "raw_training_data = pd.read_csv(\"https://docs.google.com/spreadsheets/d/1qY2Pxbb2lCNy3WsdJ_09dJodustHinEGRy-847WFHr8/export?format=csv\")"
      ],
      "execution_count": null,
      "outputs": []
    },
    {
      "cell_type": "markdown",
      "metadata": {
        "id": "DTZKjol1yaZ9"
      },
      "source": [
        "#### Dataset"
      ]
    },
    {
      "cell_type": "code",
      "metadata": {
        "colab": {
          "base_uri": "https://localhost:8080/",
          "height": 583
        },
        "id": "IoIpsKGoZLUa",
        "outputId": "ff566c3a-86a5-4128-a609-4a8c84d7b695"
      },
      "source": [
        "data"
      ],
      "execution_count": null,
      "outputs": [
        {
          "output_type": "execute_result",
          "data": {
            "text/html": [
              "<div>\n",
              "<style scoped>\n",
              "    .dataframe tbody tr th:only-of-type {\n",
              "        vertical-align: middle;\n",
              "    }\n",
              "\n",
              "    .dataframe tbody tr th {\n",
              "        vertical-align: top;\n",
              "    }\n",
              "\n",
              "    .dataframe thead th {\n",
              "        text-align: right;\n",
              "    }\n",
              "</style>\n",
              "<table border=\"1\" class=\"dataframe\">\n",
              "  <thead>\n",
              "    <tr style=\"text-align: right;\">\n",
              "      <th></th>\n",
              "      <th>Nama Mobil</th>\n",
              "      <th>Ukuran</th>\n",
              "      <th>Kenyamanan</th>\n",
              "      <th>Irit</th>\n",
              "      <th>Kecepatan</th>\n",
              "      <th>Harga (Ratus Juta)</th>\n",
              "    </tr>\n",
              "  </thead>\n",
              "  <tbody>\n",
              "    <tr>\n",
              "      <th>0</th>\n",
              "      <td>Toyota Agya</td>\n",
              "      <td>4</td>\n",
              "      <td>4</td>\n",
              "      <td>9</td>\n",
              "      <td>6</td>\n",
              "      <td>1.00</td>\n",
              "    </tr>\n",
              "    <tr>\n",
              "      <th>1</th>\n",
              "      <td>Daihatsu Alya</td>\n",
              "      <td>4</td>\n",
              "      <td>3</td>\n",
              "      <td>9</td>\n",
              "      <td>6</td>\n",
              "      <td>1.10</td>\n",
              "    </tr>\n",
              "    <tr>\n",
              "      <th>2</th>\n",
              "      <td>Toyota Avanza</td>\n",
              "      <td>6</td>\n",
              "      <td>5</td>\n",
              "      <td>6</td>\n",
              "      <td>6</td>\n",
              "      <td>2.00</td>\n",
              "    </tr>\n",
              "    <tr>\n",
              "      <th>3</th>\n",
              "      <td>Daihatsu Xenia</td>\n",
              "      <td>6</td>\n",
              "      <td>4</td>\n",
              "      <td>6</td>\n",
              "      <td>6</td>\n",
              "      <td>1.75</td>\n",
              "    </tr>\n",
              "    <tr>\n",
              "      <th>4</th>\n",
              "      <td>Xpander</td>\n",
              "      <td>7</td>\n",
              "      <td>7</td>\n",
              "      <td>6</td>\n",
              "      <td>7</td>\n",
              "      <td>2.25</td>\n",
              "    </tr>\n",
              "    <tr>\n",
              "      <th>5</th>\n",
              "      <td>Livina</td>\n",
              "      <td>7</td>\n",
              "      <td>7</td>\n",
              "      <td>6</td>\n",
              "      <td>7</td>\n",
              "      <td>2.10</td>\n",
              "    </tr>\n",
              "    <tr>\n",
              "      <th>6</th>\n",
              "      <td>Karimun</td>\n",
              "      <td>3</td>\n",
              "      <td>4</td>\n",
              "      <td>10</td>\n",
              "      <td>5</td>\n",
              "      <td>1.20</td>\n",
              "    </tr>\n",
              "    <tr>\n",
              "      <th>7</th>\n",
              "      <td>Toyota Innova</td>\n",
              "      <td>8</td>\n",
              "      <td>8</td>\n",
              "      <td>5</td>\n",
              "      <td>7</td>\n",
              "      <td>4.00</td>\n",
              "    </tr>\n",
              "    <tr>\n",
              "      <th>8</th>\n",
              "      <td>Alphard</td>\n",
              "      <td>9</td>\n",
              "      <td>10</td>\n",
              "      <td>4</td>\n",
              "      <td>8</td>\n",
              "      <td>10.00</td>\n",
              "    </tr>\n",
              "    <tr>\n",
              "      <th>9</th>\n",
              "      <td>Toyota Vios</td>\n",
              "      <td>5</td>\n",
              "      <td>7</td>\n",
              "      <td>9</td>\n",
              "      <td>8</td>\n",
              "      <td>2.50</td>\n",
              "    </tr>\n",
              "    <tr>\n",
              "      <th>10</th>\n",
              "      <td>Honda City</td>\n",
              "      <td>5</td>\n",
              "      <td>8</td>\n",
              "      <td>7</td>\n",
              "      <td>8</td>\n",
              "      <td>2.70</td>\n",
              "    </tr>\n",
              "    <tr>\n",
              "      <th>11</th>\n",
              "      <td>Toyota Hiace</td>\n",
              "      <td>10</td>\n",
              "      <td>5</td>\n",
              "      <td>8</td>\n",
              "      <td>6</td>\n",
              "      <td>5.00</td>\n",
              "    </tr>\n",
              "    <tr>\n",
              "      <th>12</th>\n",
              "      <td>Toyota Fortuner</td>\n",
              "      <td>9</td>\n",
              "      <td>8</td>\n",
              "      <td>5</td>\n",
              "      <td>8</td>\n",
              "      <td>5.00</td>\n",
              "    </tr>\n",
              "    <tr>\n",
              "      <th>13</th>\n",
              "      <td>Toyota Foxy</td>\n",
              "      <td>9</td>\n",
              "      <td>9</td>\n",
              "      <td>5</td>\n",
              "      <td>7</td>\n",
              "      <td>5.50</td>\n",
              "    </tr>\n",
              "    <tr>\n",
              "      <th>14</th>\n",
              "      <td>Toyota Corolla Altis</td>\n",
              "      <td>5</td>\n",
              "      <td>9</td>\n",
              "      <td>7</td>\n",
              "      <td>9</td>\n",
              "      <td>6.00</td>\n",
              "    </tr>\n",
              "    <tr>\n",
              "      <th>15</th>\n",
              "      <td>Suzuki Ertiga</td>\n",
              "      <td>7</td>\n",
              "      <td>7</td>\n",
              "      <td>7</td>\n",
              "      <td>7</td>\n",
              "      <td>2.30</td>\n",
              "    </tr>\n",
              "    <tr>\n",
              "      <th>16</th>\n",
              "      <td>Suzuki Carry</td>\n",
              "      <td>7</td>\n",
              "      <td>3</td>\n",
              "      <td>9</td>\n",
              "      <td>5</td>\n",
              "      <td>0.80</td>\n",
              "    </tr>\n",
              "  </tbody>\n",
              "</table>\n",
              "</div>"
            ],
            "text/plain": [
              "              Nama Mobil  Ukuran  ...  Kecepatan  Harga (Ratus Juta)\n",
              "0            Toyota Agya       4  ...          6                1.00\n",
              "1          Daihatsu Alya       4  ...          6                1.10\n",
              "2          Toyota Avanza       6  ...          6                2.00\n",
              "3         Daihatsu Xenia       6  ...          6                1.75\n",
              "4                Xpander       7  ...          7                2.25\n",
              "5                 Livina       7  ...          7                2.10\n",
              "6                Karimun       3  ...          5                1.20\n",
              "7          Toyota Innova       8  ...          7                4.00\n",
              "8                Alphard       9  ...          8               10.00\n",
              "9            Toyota Vios       5  ...          8                2.50\n",
              "10            Honda City       5  ...          8                2.70\n",
              "11          Toyota Hiace      10  ...          6                5.00\n",
              "12       Toyota Fortuner       9  ...          8                5.00\n",
              "13           Toyota Foxy       9  ...          7                5.50\n",
              "14  Toyota Corolla Altis       5  ...          9                6.00\n",
              "15         Suzuki Ertiga       7  ...          7                2.30\n",
              "16          Suzuki Carry       7  ...          5                0.80\n",
              "\n",
              "[17 rows x 6 columns]"
            ]
          },
          "metadata": {
            "tags": []
          },
          "execution_count": 15
        }
      ]
    },
    {
      "cell_type": "markdown",
      "metadata": {
        "id": "p6Ke7M78ydvS"
      },
      "source": [
        "#### Training Data\n",
        "\n",
        "From Input"
      ]
    },
    {
      "cell_type": "code",
      "metadata": {
        "colab": {
          "base_uri": "https://localhost:8080/",
          "height": 81
        },
        "id": "lcK9nKuGaFoh",
        "outputId": "f6c1d6ae-d39e-41fc-cfb1-01fab66ce56f"
      },
      "source": [
        "raw_training_data"
      ],
      "execution_count": null,
      "outputs": [
        {
          "output_type": "execute_result",
          "data": {
            "text/html": [
              "<div>\n",
              "<style scoped>\n",
              "    .dataframe tbody tr th:only-of-type {\n",
              "        vertical-align: middle;\n",
              "    }\n",
              "\n",
              "    .dataframe tbody tr th {\n",
              "        vertical-align: top;\n",
              "    }\n",
              "\n",
              "    .dataframe thead th {\n",
              "        text-align: right;\n",
              "    }\n",
              "</style>\n",
              "<table border=\"1\" class=\"dataframe\">\n",
              "  <thead>\n",
              "    <tr style=\"text-align: right;\">\n",
              "      <th></th>\n",
              "      <th>Ukuran</th>\n",
              "      <th>Kenyamanan</th>\n",
              "      <th>Irit</th>\n",
              "      <th>Kecepatan</th>\n",
              "      <th>Harga (Ratus Juta)</th>\n",
              "    </tr>\n",
              "  </thead>\n",
              "  <tbody>\n",
              "    <tr>\n",
              "      <th>0</th>\n",
              "      <td>3</td>\n",
              "      <td>5</td>\n",
              "      <td>4</td>\n",
              "      <td>4</td>\n",
              "      <td>1</td>\n",
              "    </tr>\n",
              "  </tbody>\n",
              "</table>\n",
              "</div>"
            ],
            "text/plain": [
              "   Ukuran  Kenyamanan  Irit  Kecepatan  Harga (Ratus Juta)\n",
              "0       3           5     4          4                   1"
            ]
          },
          "metadata": {
            "tags": []
          },
          "execution_count": 16
        }
      ]
    },
    {
      "cell_type": "markdown",
      "metadata": {
        "id": "VSVoWCgm4YQO"
      },
      "source": [
        "### Pre-processing Data"
      ]
    },
    {
      "cell_type": "code",
      "metadata": {
        "id": "doDhkU1OFioJ"
      },
      "source": [
        "training_data = [raw_training_data['Ukuran'][0], raw_training_data['Kenyamanan'][0], raw_training_data['Irit'][0], raw_training_data['Kecepatan'][0], raw_training_data['Harga (Ratus Juta)'][0]]\n",
        "data.isna().sum()\n",
        "df = data.drop([\"Nama Mobil\"], axis = 1)"
      ],
      "execution_count": null,
      "outputs": []
    },
    {
      "cell_type": "markdown",
      "metadata": {
        "id": "hlE3Rc9l5s1V"
      },
      "source": [
        "#### Formula"
      ]
    },
    {
      "cell_type": "code",
      "metadata": {
        "id": "rzWkN4zJ_QXm"
      },
      "source": [
        "def manhattanFormula(x, y):\n",
        "  return sum([abs(x[i] - y[i]) for i in range(len(x))])\n",
        "\n",
        "def euclideanFormula(x, y):\n",
        "  return sqrt(sum([(x[i] - y[i]) ** 2 for i in range(len(x))]))\n",
        "\n",
        "def minkowskiFormula(x, y, r):\n",
        "  return sum([abs(x[i] - y[i]) ** r for i in range(len(x))]) ** (1./ r)\n",
        "\n",
        "def supremumFormula(x, y):\n",
        "  return max([abs(x[i] - y[i]) for i in range(len(x))])"
      ],
      "execution_count": null,
      "outputs": []
    },
    {
      "cell_type": "markdown",
      "metadata": {
        "id": "r-IxiU6uu2Yw"
      },
      "source": [
        "### Classification"
      ]
    },
    {
      "cell_type": "markdown",
      "metadata": {
        "id": "APZkRHs7tG2a"
      },
      "source": [
        "#### Manhattan"
      ]
    },
    {
      "cell_type": "code",
      "metadata": {
        "id": "iPGN3iWSH3Bz"
      },
      "source": [
        "def manhattan(val):\n",
        "  manhattan_distance = []\n",
        "  df_list = df.values\n",
        "\n",
        "  for x in df_list:\n",
        "    manhattan_distance.append(manhattanFormula(x, training_data))\n",
        "\n",
        "  data[\"manhattan\"] = manhattan_distance\n",
        "  manhattan_sorted = data.sort_values(by=['manhattan'])[:val]\n",
        "\n",
        "  return manhattan_sorted"
      ],
      "execution_count": null,
      "outputs": []
    },
    {
      "cell_type": "markdown",
      "metadata": {
        "id": "JyAOp5ueuP6I"
      },
      "source": [
        "#### Euclidean"
      ]
    },
    {
      "cell_type": "code",
      "metadata": {
        "id": "sN3J16ekIbJK"
      },
      "source": [
        "def euclidean(val):\n",
        "  euclidean_distance = []\n",
        "  df_list = df.values\n",
        "\n",
        "  for x in df_list:\n",
        "    euclidean_distance.append(euclideanFormula(x, training_data))\n",
        "\n",
        "  data[\"euclidean\"] = euclidean_distance\n",
        "  euclidean_sorted = data.sort_values(by=['euclidean'])[:val]\n",
        "\n",
        "  return euclidean_sorted"
      ],
      "execution_count": null,
      "outputs": []
    },
    {
      "cell_type": "markdown",
      "metadata": {
        "id": "CJZCTo3QuS8U"
      },
      "source": [
        "#### Minkowski"
      ]
    },
    {
      "cell_type": "code",
      "metadata": {
        "id": "QvLam5eEJBO-"
      },
      "source": [
        "def minkowski(val):\n",
        "  minkowski_distance = []\n",
        "  df_list = df.values\n",
        "\n",
        "  for x in df_list:\n",
        "    minkowski_distance.append(minkowskiFormula(x, training_data, 3))\n",
        "\n",
        "  data[\"minkowski\"] = minkowski_distance\n",
        "  minkowski_sorted = data.sort_values(by=['minkowski'])[:val]\n",
        "\n",
        "  return minkowski_sorted"
      ],
      "execution_count": null,
      "outputs": []
    },
    {
      "cell_type": "markdown",
      "metadata": {
        "id": "2bxQSOlwuV2Z"
      },
      "source": [
        "#### Supremum"
      ]
    },
    {
      "cell_type": "code",
      "metadata": {
        "id": "FKkXib_xVBAc"
      },
      "source": [
        "def supremum(val):\n",
        "  supremum_distance = []\n",
        "  df_list = df.values\n",
        "\n",
        "  for x in df_list:\n",
        "    supremum_distance.append(supremumFormula(x, training_data))\n",
        "\n",
        "  data[\"supremum\"] = supremum_distance\n",
        "  supremum_sorted = data.sort_values(by=['supremum'])[:val]\n",
        "\n",
        "  return supremum_sorted"
      ],
      "execution_count": null,
      "outputs": []
    },
    {
      "cell_type": "markdown",
      "metadata": {
        "id": "Kc1-N28XwTNe"
      },
      "source": [
        "### Main"
      ]
    },
    {
      "cell_type": "code",
      "metadata": {
        "id": "y1X_mrH4ViW4"
      },
      "source": [
        "size = 4\n",
        "\n",
        "man = manhattan(size)\n",
        "eu = euclidean(size)\n",
        "min = minkowski(size)\n",
        "sp = supremum(size)"
      ],
      "execution_count": null,
      "outputs": []
    },
    {
      "cell_type": "markdown",
      "metadata": {
        "id": "mrl3Sad5w7sU"
      },
      "source": [
        "#### Output\n",
        "(To Excel)"
      ]
    },
    {
      "cell_type": "code",
      "metadata": {
        "colab": {
          "base_uri": "https://localhost:8080/"
        },
        "id": "fityV3uPBV-c",
        "outputId": "5ba631b4-840a-4511-800c-5c2ac52fa0b9"
      },
      "source": [
        "man.to_excel('recommend_manhattan.xls', index=False)\n",
        "eu.to_excel('recommend_euclidean.xls', index=False)\n",
        "min.to_excel('recommend_minkowski.xls', index=False)\n",
        "sp.to_excel('recommend_supremum.xls', index=False)\n",
        "\n",
        "print(man)\n",
        "print(eu)\n",
        "print(min)\n",
        "print(sp)"
      ],
      "execution_count": null,
      "outputs": [
        {
          "output_type": "stream",
          "text": [
            "       Nama Mobil  Ukuran  Kenyamanan  ...  Kecepatan  Harga (Ratus Juta)  manhattan\n",
            "2   Toyota Avanza       6           5  ...          6                2.00       8.00\n",
            "6         Karimun       3           4  ...          5                1.20       8.20\n",
            "3  Daihatsu Xenia       6           4  ...          6                1.75       8.75\n",
            "0     Toyota Agya       4           4  ...          6                1.00       9.00\n",
            "\n",
            "[4 rows x 7 columns]\n",
            "       Nama Mobil  Ukuran  Kenyamanan  ...  Harga (Ratus Juta)  manhattan  euclidean\n",
            "2   Toyota Avanza       6           5  ...                2.00       8.00   4.242641\n",
            "3  Daihatsu Xenia       6           4  ...                1.75       8.75   4.308422\n",
            "0     Toyota Agya       4           4  ...                1.00       9.00   5.567764\n",
            "1   Daihatsu Alya       4           3  ...                1.10      10.10   5.831809\n",
            "\n",
            "[4 rows x 8 columns]\n",
            "       Nama Mobil  Ukuran  Kenyamanan  ...  manhattan  euclidean  minkowski\n",
            "2   Toyota Avanza       6           5  ...       8.00   4.242641   3.530348\n",
            "3  Daihatsu Xenia       6           4  ...       8.75   4.308422   3.541596\n",
            "5          Livina       7           7  ...      12.10   5.848932   4.767063\n",
            "4         Xpander       7           7  ...      12.25   5.878988   4.776171\n",
            "\n",
            "[4 rows x 9 columns]\n",
            "       Nama Mobil  Ukuran  Kenyamanan  ...  euclidean  minkowski  supremum\n",
            "2   Toyota Avanza       6           5  ...   4.242641   3.530348       3.0\n",
            "3  Daihatsu Xenia       6           4  ...   4.308422   3.541596       3.0\n",
            "4         Xpander       7           7  ...   5.878988   4.776171       4.0\n",
            "5          Livina       7           7  ...   5.848932   4.767063       4.0\n",
            "\n",
            "[4 rows x 10 columns]\n"
          ],
          "name": "stdout"
        }
      ]
    }
  ]
}